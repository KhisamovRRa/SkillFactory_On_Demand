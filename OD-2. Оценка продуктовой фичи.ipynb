{
 "cells": [
  {
   "cell_type": "markdown",
   "metadata": {},
   "source": [
    "# САМОСТОЯТЕЛЬНАЯ РАБОТА\n",
    "\n",
    "В рамках данной самостоятельной работы будет закрепляться навык оценки эффективности внедрённой фичи. Ниже приведены задачи работы.\n",
    "\n",
    "### Задачи:\n",
    "1. Посчитать показатели Retention Rate седьмого дня и ARPPU за два периода: до и после внедрения фичи (май и июнь 2019 соответственно);\n",
    "2. Сформировать выводы по анализу.\n",
    "\n",
    "### Выполнение:\n",
    "\n",
    "1. Перво-наперво загрузим требуемые библотеки и составим функции для получения наших данных.  "
   ]
  },
  {
   "cell_type": "code",
   "execution_count": 1,
   "metadata": {},
   "outputs": [],
   "source": [
    "# Нам нужны библиотеки: pandas для работы с датафреймами, numpy для работы с датами, psycopg2 для работы с SQL запросами\n",
    "import pandas as pd\n",
    "import numpy as np\n",
    "import psycopg2\n",
    "import psycopg2.extras"
   ]
  },
  {
   "cell_type": "markdown",
   "metadata": {},
   "source": [
    "2. Получим данные для мая и июня 2019 года требуемые нам для проведения анализа:\n",
    "- количество зарегистрированных пользователей;\n",
    "- количество активных пользователей;\n",
    "- доход."
   ]
  },
  {
   "cell_type": "code",
   "execution_count": 2,
   "metadata": {},
   "outputs": [],
   "source": [
    "def getRegisteredUsersCount():\n",
    "    query = '''SELECT r.registration_date, count(distinct(r.user_id)) as registered_users_count\n",
    "    FROM case9.registration r\n",
    "    WHERE r.registration_date >= '2019-05-01' and r.registration_date < '2019-07-01'\n",
    "    GROUP BY 1\n",
    "    '''.format()\n",
    "    conn = psycopg2.connect(\"dbname='skillfactory' user='skillfactory' host='84.201.134.129' password='cCkxxLVrDE8EbvjueeMedPKt' port=5432\")\n",
    "    dict_cur = conn.cursor(cursor_factory=psycopg2.extras.DictCursor)\n",
    "    dict_cur.execute(query)\n",
    "    rows = dict_cur.fetchall()\n",
    "    data = []\n",
    "    for row in rows:\n",
    "        data.append(dict(row))\n",
    "    return data\n",
    "\n",
    "registered_users_count = pd.DataFrame(getRegisteredUsersCount())"
   ]
  },
  {
   "cell_type": "code",
   "execution_count": 3,
   "metadata": {},
   "outputs": [],
   "source": [
    "def getActiveUsersCountWithCohorts():\n",
    "    query = '''SELECT ac.activity_date, r.registration_date, count(distinct(ac.user_id)) as active_users_count\n",
    "    FROM case9.user_activity ac\n",
    "    LEFT JOIN case9.registration r ON r.user_id = ac.user_id\n",
    "    WHERE r.registration_date >= '2019-05-01' and r.registration_date < '2019-07-01'\n",
    "    GROUP BY 1,2\n",
    "    '''.format()\n",
    "    conn = psycopg2.connect(\"dbname='skillfactory' user='skillfactory' host='84.201.134.129' password='cCkxxLVrDE8EbvjueeMedPKt' port=5432\")\n",
    "    dict_cur = conn.cursor(cursor_factory=psycopg2.extras.DictCursor)\n",
    "    dict_cur.execute(query)\n",
    "    rows = dict_cur.fetchall()\n",
    "    data = []\n",
    "    for row in rows:\n",
    "        data.append(dict(row))\n",
    "    return data \n",
    "\n",
    "active_users_count_with_cohorts = pd.DataFrame(getActiveUsersCountWithCohorts())"
   ]
  },
  {
   "cell_type": "code",
   "execution_count": 4,
   "metadata": {},
   "outputs": [],
   "source": [
    "def getRevenue():\n",
    "    query = '''SELECT re.date, r.registration_date, count(distinct(re.user_id)) as users_count_with_revenue, sum(re.revenue) as revenue\n",
    "    FROM case9.user_revenue re\n",
    "    LEFT JOIN case9.registration r ON r.user_id = re.user_id\n",
    "    WHERE r.registration_date >= '2019-05-01' and r.registration_date < '2019-07-01'\n",
    "    GROUP BY 1,2\n",
    "    '''.format()\n",
    "    conn = psycopg2.connect(\"dbname='skillfactory' user='skillfactory' host='84.201.134.129' password='cCkxxLVrDE8EbvjueeMedPKt' port=5432\")\n",
    "    dict_cur = conn.cursor(cursor_factory=psycopg2.extras.DictCursor)\n",
    "    dict_cur.execute(query)\n",
    "    rows = dict_cur.fetchall()\n",
    "    data = []\n",
    "    for row in rows:\n",
    "        data.append(dict(row))\n",
    "    return data\n",
    "\n",
    "revenue = pd.DataFrame(getRevenue())"
   ]
  },
  {
   "cell_type": "markdown",
   "metadata": {},
   "source": [
    "3. Смотрим данные, по одной таблице из каждого варианта хватит для понимания что делать далее."
   ]
  },
  {
   "cell_type": "code",
   "execution_count": 5,
   "metadata": {
    "scrolled": true
   },
   "outputs": [
    {
     "name": "stdout",
     "output_type": "stream",
     "text": [
      "<class 'pandas.core.frame.DataFrame'>\n",
      "RangeIndex: 61 entries, 0 to 60\n",
      "Data columns (total 2 columns):\n",
      " #   Column                  Non-Null Count  Dtype \n",
      "---  ------                  --------------  ----- \n",
      " 0   registration_date       61 non-null     object\n",
      " 1   registered_users_count  61 non-null     int64 \n",
      "dtypes: int64(1), object(1)\n",
      "memory usage: 1.1+ KB\n"
     ]
    }
   ],
   "source": [
    "registered_users_count.info()"
   ]
  },
  {
   "cell_type": "code",
   "execution_count": 6,
   "metadata": {},
   "outputs": [
    {
     "name": "stdout",
     "output_type": "stream",
     "text": [
      "<class 'pandas.core.frame.DataFrame'>\n",
      "RangeIndex: 1891 entries, 0 to 1890\n",
      "Data columns (total 3 columns):\n",
      " #   Column              Non-Null Count  Dtype \n",
      "---  ------              --------------  ----- \n",
      " 0   activity_date       1891 non-null   object\n",
      " 1   registration_date   1891 non-null   object\n",
      " 2   active_users_count  1891 non-null   int64 \n",
      "dtypes: int64(1), object(2)\n",
      "memory usage: 44.4+ KB\n"
     ]
    }
   ],
   "source": [
    "active_users_count_with_cohorts.info()"
   ]
  },
  {
   "cell_type": "code",
   "execution_count": 7,
   "metadata": {
    "scrolled": true
   },
   "outputs": [
    {
     "name": "stdout",
     "output_type": "stream",
     "text": [
      "<class 'pandas.core.frame.DataFrame'>\n",
      "RangeIndex: 1745 entries, 0 to 1744\n",
      "Data columns (total 4 columns):\n",
      " #   Column                    Non-Null Count  Dtype  \n",
      "---  ------                    --------------  -----  \n",
      " 0   date                      1745 non-null   object \n",
      " 1   registration_date         1745 non-null   object \n",
      " 2   users_count_with_revenue  1745 non-null   int64  \n",
      " 3   revenue                   1745 non-null   float64\n",
      "dtypes: float64(1), int64(1), object(2)\n",
      "memory usage: 54.7+ KB\n"
     ]
    }
   ],
   "source": [
    "revenue.info()"
   ]
  },
  {
   "cell_type": "markdown",
   "metadata": {},
   "source": [
    "4. Видим что во всех таблицах что величины связанные с датами имеют формат object, т.е. строковая величина. Необходимо в каждой таблице поменять формат дат на формат дат"
   ]
  },
  {
   "cell_type": "code",
   "execution_count": 8,
   "metadata": {},
   "outputs": [],
   "source": [
    "registered_users_count['registration_date'] = pd.to_datetime(registered_users_count['registration_date'])"
   ]
  },
  {
   "cell_type": "code",
   "execution_count": 9,
   "metadata": {},
   "outputs": [],
   "source": [
    "for col in ['activity_date','registration_date']:\n",
    "    active_users_count_with_cohorts[col] = pd.to_datetime(active_users_count_with_cohorts[col])"
   ]
  },
  {
   "cell_type": "code",
   "execution_count": 10,
   "metadata": {},
   "outputs": [],
   "source": [
    "revenue = revenue.rename(columns={'date':'activity_date'})"
   ]
  },
  {
   "cell_type": "code",
   "execution_count": 11,
   "metadata": {},
   "outputs": [],
   "source": [
    "for col in ['activity_date','registration_date']:\n",
    "    revenue[col] = pd.to_datetime(revenue[col])"
   ]
  },
  {
   "cell_type": "markdown",
   "metadata": {},
   "source": [
    "5. Объединим наши таблицы в одну"
   ]
  },
  {
   "cell_type": "code",
   "execution_count": 12,
   "metadata": {
    "scrolled": true
   },
   "outputs": [
    {
     "data": {
      "text/html": [
       "<div>\n",
       "<style scoped>\n",
       "    .dataframe tbody tr th:only-of-type {\n",
       "        vertical-align: middle;\n",
       "    }\n",
       "\n",
       "    .dataframe tbody tr th {\n",
       "        vertical-align: top;\n",
       "    }\n",
       "\n",
       "    .dataframe thead th {\n",
       "        text-align: right;\n",
       "    }\n",
       "</style>\n",
       "<table border=\"1\" class=\"dataframe\">\n",
       "  <thead>\n",
       "    <tr style=\"text-align: right;\">\n",
       "      <th></th>\n",
       "      <th>activity_date</th>\n",
       "      <th>registration_date</th>\n",
       "      <th>active_users_count</th>\n",
       "      <th>registered_users_count</th>\n",
       "      <th>users_count_with_revenue</th>\n",
       "      <th>revenue</th>\n",
       "    </tr>\n",
       "  </thead>\n",
       "  <tbody>\n",
       "    <tr>\n",
       "      <th>0</th>\n",
       "      <td>2019-05-01</td>\n",
       "      <td>2019-05-01</td>\n",
       "      <td>2590</td>\n",
       "      <td>6516</td>\n",
       "      <td>1672.0</td>\n",
       "      <td>2357.580</td>\n",
       "    </tr>\n",
       "    <tr>\n",
       "      <th>1</th>\n",
       "      <td>2019-05-02</td>\n",
       "      <td>2019-05-01</td>\n",
       "      <td>2146</td>\n",
       "      <td>6516</td>\n",
       "      <td>1420.0</td>\n",
       "      <td>514.679</td>\n",
       "    </tr>\n",
       "    <tr>\n",
       "      <th>2</th>\n",
       "      <td>2019-05-02</td>\n",
       "      <td>2019-05-02</td>\n",
       "      <td>2049</td>\n",
       "      <td>5309</td>\n",
       "      <td>1367.0</td>\n",
       "      <td>1629.140</td>\n",
       "    </tr>\n",
       "    <tr>\n",
       "      <th>3</th>\n",
       "      <td>2019-05-03</td>\n",
       "      <td>2019-05-01</td>\n",
       "      <td>1637</td>\n",
       "      <td>6516</td>\n",
       "      <td>1048.0</td>\n",
       "      <td>390.952</td>\n",
       "    </tr>\n",
       "    <tr>\n",
       "      <th>4</th>\n",
       "      <td>2019-05-03</td>\n",
       "      <td>2019-05-02</td>\n",
       "      <td>1817</td>\n",
       "      <td>5309</td>\n",
       "      <td>1164.0</td>\n",
       "      <td>533.608</td>\n",
       "    </tr>\n",
       "  </tbody>\n",
       "</table>\n",
       "</div>"
      ],
      "text/plain": [
       "  activity_date registration_date  active_users_count  registered_users_count  \\\n",
       "0    2019-05-01        2019-05-01                2590                    6516   \n",
       "1    2019-05-02        2019-05-01                2146                    6516   \n",
       "2    2019-05-02        2019-05-02                2049                    5309   \n",
       "3    2019-05-03        2019-05-01                1637                    6516   \n",
       "4    2019-05-03        2019-05-02                1817                    5309   \n",
       "\n",
       "   users_count_with_revenue   revenue  \n",
       "0                    1672.0  2357.580  \n",
       "1                    1420.0   514.679  \n",
       "2                    1367.0  1629.140  \n",
       "3                    1048.0   390.952  \n",
       "4                    1164.0   533.608  "
      ]
     },
     "execution_count": 12,
     "metadata": {},
     "output_type": "execute_result"
    }
   ],
   "source": [
    "users_with_revenue = active_users_count_with_cohorts.merge(registered_users_count, on = 'registration_date', how = 'left')\n",
    "users_with_revenue = users_with_revenue.merge(revenue, on = ['registration_date','activity_date'], how = 'left')\n",
    "users_with_revenue.head()"
   ]
  },
  {
   "cell_type": "code",
   "execution_count": 13,
   "metadata": {},
   "outputs": [
    {
     "name": "stdout",
     "output_type": "stream",
     "text": [
      "<class 'pandas.core.frame.DataFrame'>\n",
      "Int64Index: 1891 entries, 0 to 1890\n",
      "Data columns (total 6 columns):\n",
      " #   Column                    Non-Null Count  Dtype         \n",
      "---  ------                    --------------  -----         \n",
      " 0   activity_date             1891 non-null   datetime64[ns]\n",
      " 1   registration_date         1891 non-null   datetime64[ns]\n",
      " 2   active_users_count        1891 non-null   int64         \n",
      " 3   registered_users_count    1891 non-null   int64         \n",
      " 4   users_count_with_revenue  1745 non-null   float64       \n",
      " 5   revenue                   1745 non-null   float64       \n",
      "dtypes: datetime64[ns](2), float64(2), int64(2)\n",
      "memory usage: 103.4 KB\n"
     ]
    }
   ],
   "source": [
    "users_with_revenue.info()"
   ]
  },
  {
   "cell_type": "code",
   "execution_count": 14,
   "metadata": {},
   "outputs": [],
   "source": [
    "for col in ['revenue','users_count_with_revenue']:\n",
    "    users_with_revenue[col] = users_with_revenue[col].fillna(0)"
   ]
  },
  {
   "cell_type": "code",
   "execution_count": 15,
   "metadata": {},
   "outputs": [
    {
     "name": "stdout",
     "output_type": "stream",
     "text": [
      "<class 'pandas.core.frame.DataFrame'>\n",
      "Int64Index: 1891 entries, 0 to 1890\n",
      "Data columns (total 6 columns):\n",
      " #   Column                    Non-Null Count  Dtype         \n",
      "---  ------                    --------------  -----         \n",
      " 0   activity_date             1891 non-null   datetime64[ns]\n",
      " 1   registration_date         1891 non-null   datetime64[ns]\n",
      " 2   active_users_count        1891 non-null   int64         \n",
      " 3   registered_users_count    1891 non-null   int64         \n",
      " 4   users_count_with_revenue  1891 non-null   float64       \n",
      " 5   revenue                   1891 non-null   float64       \n",
      "dtypes: datetime64[ns](2), float64(2), int64(2)\n",
      "memory usage: 103.4 KB\n"
     ]
    }
   ],
   "source": [
    "users_with_revenue.info()"
   ]
  },
  {
   "cell_type": "markdown",
   "metadata": {},
   "source": [
    "6. Считаем когорты по дате регистрации"
   ]
  },
  {
   "cell_type": "code",
   "execution_count": 16,
   "metadata": {
    "scrolled": true
   },
   "outputs": [
    {
     "data": {
      "text/html": [
       "<div>\n",
       "<style scoped>\n",
       "    .dataframe tbody tr th:only-of-type {\n",
       "        vertical-align: middle;\n",
       "    }\n",
       "\n",
       "    .dataframe tbody tr th {\n",
       "        vertical-align: top;\n",
       "    }\n",
       "\n",
       "    .dataframe thead th {\n",
       "        text-align: right;\n",
       "    }\n",
       "</style>\n",
       "<table border=\"1\" class=\"dataframe\">\n",
       "  <thead>\n",
       "    <tr style=\"text-align: right;\">\n",
       "      <th></th>\n",
       "      <th>activity_date</th>\n",
       "      <th>registration_date</th>\n",
       "      <th>active_users_count</th>\n",
       "      <th>registered_users_count</th>\n",
       "      <th>users_count_with_revenue</th>\n",
       "      <th>revenue</th>\n",
       "      <th>lifetime</th>\n",
       "    </tr>\n",
       "  </thead>\n",
       "  <tbody>\n",
       "    <tr>\n",
       "      <th>0</th>\n",
       "      <td>2019-05-01</td>\n",
       "      <td>2019-05-01</td>\n",
       "      <td>2590</td>\n",
       "      <td>6516</td>\n",
       "      <td>1672.0</td>\n",
       "      <td>2357.580</td>\n",
       "      <td>0</td>\n",
       "    </tr>\n",
       "    <tr>\n",
       "      <th>1</th>\n",
       "      <td>2019-05-02</td>\n",
       "      <td>2019-05-01</td>\n",
       "      <td>2146</td>\n",
       "      <td>6516</td>\n",
       "      <td>1420.0</td>\n",
       "      <td>514.679</td>\n",
       "      <td>1</td>\n",
       "    </tr>\n",
       "    <tr>\n",
       "      <th>2</th>\n",
       "      <td>2019-05-02</td>\n",
       "      <td>2019-05-02</td>\n",
       "      <td>2049</td>\n",
       "      <td>5309</td>\n",
       "      <td>1367.0</td>\n",
       "      <td>1629.140</td>\n",
       "      <td>0</td>\n",
       "    </tr>\n",
       "    <tr>\n",
       "      <th>3</th>\n",
       "      <td>2019-05-03</td>\n",
       "      <td>2019-05-01</td>\n",
       "      <td>1637</td>\n",
       "      <td>6516</td>\n",
       "      <td>1048.0</td>\n",
       "      <td>390.952</td>\n",
       "      <td>2</td>\n",
       "    </tr>\n",
       "    <tr>\n",
       "      <th>4</th>\n",
       "      <td>2019-05-03</td>\n",
       "      <td>2019-05-02</td>\n",
       "      <td>1817</td>\n",
       "      <td>5309</td>\n",
       "      <td>1164.0</td>\n",
       "      <td>533.608</td>\n",
       "      <td>1</td>\n",
       "    </tr>\n",
       "  </tbody>\n",
       "</table>\n",
       "</div>"
      ],
      "text/plain": [
       "  activity_date registration_date  active_users_count  registered_users_count  \\\n",
       "0    2019-05-01        2019-05-01                2590                    6516   \n",
       "1    2019-05-02        2019-05-01                2146                    6516   \n",
       "2    2019-05-02        2019-05-02                2049                    5309   \n",
       "3    2019-05-03        2019-05-01                1637                    6516   \n",
       "4    2019-05-03        2019-05-02                1817                    5309   \n",
       "\n",
       "   users_count_with_revenue   revenue  lifetime  \n",
       "0                    1672.0  2357.580         0  \n",
       "1                    1420.0   514.679         1  \n",
       "2                    1367.0  1629.140         0  \n",
       "3                    1048.0   390.952         2  \n",
       "4                    1164.0   533.608         1  "
      ]
     },
     "execution_count": 16,
     "metadata": {},
     "output_type": "execute_result"
    }
   ],
   "source": [
    "users_with_revenue['lifetime'] = users_with_revenue['activity_date'] - users_with_revenue['registration_date']\n",
    "users_with_revenue['lifetime'] = users_with_revenue['lifetime']/np.timedelta64(1,'D')\n",
    "users_with_revenue['lifetime'] = users_with_revenue['lifetime'].astype(int)\n",
    "users_with_revenue.head()"
   ]
  },
  {
   "cell_type": "markdown",
   "metadata": {},
   "source": [
    "7. Фильтруем по кагорте 7-го дня для каждого месяца по отдельности."
   ]
  },
  {
   "cell_type": "code",
   "execution_count": 17,
   "metadata": {},
   "outputs": [
    {
     "data": {
      "text/html": [
       "<div>\n",
       "<style scoped>\n",
       "    .dataframe tbody tr th:only-of-type {\n",
       "        vertical-align: middle;\n",
       "    }\n",
       "\n",
       "    .dataframe tbody tr th {\n",
       "        vertical-align: top;\n",
       "    }\n",
       "\n",
       "    .dataframe thead th {\n",
       "        text-align: right;\n",
       "    }\n",
       "</style>\n",
       "<table border=\"1\" class=\"dataframe\">\n",
       "  <thead>\n",
       "    <tr style=\"text-align: right;\">\n",
       "      <th></th>\n",
       "      <th>activity_date</th>\n",
       "      <th>registration_date</th>\n",
       "      <th>active_users_count</th>\n",
       "      <th>registered_users_count</th>\n",
       "      <th>users_count_with_revenue</th>\n",
       "      <th>revenue</th>\n",
       "      <th>lifetime</th>\n",
       "    </tr>\n",
       "  </thead>\n",
       "  <tbody>\n",
       "    <tr>\n",
       "      <th>28</th>\n",
       "      <td>2019-05-08</td>\n",
       "      <td>2019-05-01</td>\n",
       "      <td>953</td>\n",
       "      <td>6516</td>\n",
       "      <td>616.0</td>\n",
       "      <td>63.9065</td>\n",
       "      <td>7</td>\n",
       "    </tr>\n",
       "    <tr>\n",
       "      <th>37</th>\n",
       "      <td>2019-05-09</td>\n",
       "      <td>2019-05-02</td>\n",
       "      <td>745</td>\n",
       "      <td>5309</td>\n",
       "      <td>490.0</td>\n",
       "      <td>313.7230</td>\n",
       "      <td>7</td>\n",
       "    </tr>\n",
       "    <tr>\n",
       "      <th>47</th>\n",
       "      <td>2019-05-10</td>\n",
       "      <td>2019-05-03</td>\n",
       "      <td>895</td>\n",
       "      <td>6266</td>\n",
       "      <td>571.0</td>\n",
       "      <td>110.7260</td>\n",
       "      <td>7</td>\n",
       "    </tr>\n",
       "    <tr>\n",
       "      <th>58</th>\n",
       "      <td>2019-05-11</td>\n",
       "      <td>2019-05-04</td>\n",
       "      <td>1186</td>\n",
       "      <td>8639</td>\n",
       "      <td>750.0</td>\n",
       "      <td>124.8590</td>\n",
       "      <td>7</td>\n",
       "    </tr>\n",
       "    <tr>\n",
       "      <th>70</th>\n",
       "      <td>2019-05-12</td>\n",
       "      <td>2019-05-05</td>\n",
       "      <td>1358</td>\n",
       "      <td>9787</td>\n",
       "      <td>885.0</td>\n",
       "      <td>174.9240</td>\n",
       "      <td>7</td>\n",
       "    </tr>\n",
       "  </tbody>\n",
       "</table>\n",
       "</div>"
      ],
      "text/plain": [
       "   activity_date registration_date  active_users_count  \\\n",
       "28    2019-05-08        2019-05-01                 953   \n",
       "37    2019-05-09        2019-05-02                 745   \n",
       "47    2019-05-10        2019-05-03                 895   \n",
       "58    2019-05-11        2019-05-04                1186   \n",
       "70    2019-05-12        2019-05-05                1358   \n",
       "\n",
       "    registered_users_count  users_count_with_revenue   revenue  lifetime  \n",
       "28                    6516                     616.0   63.9065         7  \n",
       "37                    5309                     490.0  313.7230         7  \n",
       "47                    6266                     571.0  110.7260         7  \n",
       "58                    8639                     750.0  124.8590         7  \n",
       "70                    9787                     885.0  174.9240         7  "
      ]
     },
     "execution_count": 17,
     "metadata": {},
     "output_type": "execute_result"
    }
   ],
   "source": [
    "retention_table_7d_05_19 = users_with_revenue.loc[(users_with_revenue['lifetime'] == 7)&\n",
    "                                                  (users_with_revenue['registration_date']>='2019-05-01')&\n",
    "                                                  (users_with_revenue['registration_date']<'2019-06-01')]\n",
    "retention_table_7d_05_19.head()"
   ]
  },
  {
   "cell_type": "code",
   "execution_count": 18,
   "metadata": {},
   "outputs": [
    {
     "data": {
      "text/html": [
       "<div>\n",
       "<style scoped>\n",
       "    .dataframe tbody tr th:only-of-type {\n",
       "        vertical-align: middle;\n",
       "    }\n",
       "\n",
       "    .dataframe tbody tr th {\n",
       "        vertical-align: top;\n",
       "    }\n",
       "\n",
       "    .dataframe thead th {\n",
       "        text-align: right;\n",
       "    }\n",
       "</style>\n",
       "<table border=\"1\" class=\"dataframe\">\n",
       "  <thead>\n",
       "    <tr style=\"text-align: right;\">\n",
       "      <th></th>\n",
       "      <th>activity_date</th>\n",
       "      <th>registration_date</th>\n",
       "      <th>active_users_count</th>\n",
       "      <th>registered_users_count</th>\n",
       "      <th>users_count_with_revenue</th>\n",
       "      <th>revenue</th>\n",
       "      <th>lifetime</th>\n",
       "    </tr>\n",
       "  </thead>\n",
       "  <tbody>\n",
       "    <tr>\n",
       "      <th>736</th>\n",
       "      <td>2019-06-08</td>\n",
       "      <td>2019-06-01</td>\n",
       "      <td>545</td>\n",
       "      <td>4833</td>\n",
       "      <td>365.0</td>\n",
       "      <td>176.3160</td>\n",
       "      <td>7</td>\n",
       "    </tr>\n",
       "    <tr>\n",
       "      <th>767</th>\n",
       "      <td>2019-06-09</td>\n",
       "      <td>2019-06-02</td>\n",
       "      <td>683</td>\n",
       "      <td>5255</td>\n",
       "      <td>461.0</td>\n",
       "      <td>193.8390</td>\n",
       "      <td>7</td>\n",
       "    </tr>\n",
       "    <tr>\n",
       "      <th>798</th>\n",
       "      <td>2019-06-10</td>\n",
       "      <td>2019-06-03</td>\n",
       "      <td>484</td>\n",
       "      <td>4193</td>\n",
       "      <td>320.0</td>\n",
       "      <td>27.7548</td>\n",
       "      <td>7</td>\n",
       "    </tr>\n",
       "    <tr>\n",
       "      <th>829</th>\n",
       "      <td>2019-06-11</td>\n",
       "      <td>2019-06-04</td>\n",
       "      <td>511</td>\n",
       "      <td>4194</td>\n",
       "      <td>320.0</td>\n",
       "      <td>54.9610</td>\n",
       "      <td>7</td>\n",
       "    </tr>\n",
       "    <tr>\n",
       "      <th>860</th>\n",
       "      <td>2019-06-12</td>\n",
       "      <td>2019-06-05</td>\n",
       "      <td>472</td>\n",
       "      <td>3998</td>\n",
       "      <td>301.0</td>\n",
       "      <td>63.1554</td>\n",
       "      <td>7</td>\n",
       "    </tr>\n",
       "  </tbody>\n",
       "</table>\n",
       "</div>"
      ],
      "text/plain": [
       "    activity_date registration_date  active_users_count  \\\n",
       "736    2019-06-08        2019-06-01                 545   \n",
       "767    2019-06-09        2019-06-02                 683   \n",
       "798    2019-06-10        2019-06-03                 484   \n",
       "829    2019-06-11        2019-06-04                 511   \n",
       "860    2019-06-12        2019-06-05                 472   \n",
       "\n",
       "     registered_users_count  users_count_with_revenue   revenue  lifetime  \n",
       "736                    4833                     365.0  176.3160         7  \n",
       "767                    5255                     461.0  193.8390         7  \n",
       "798                    4193                     320.0   27.7548         7  \n",
       "829                    4194                     320.0   54.9610         7  \n",
       "860                    3998                     301.0   63.1554         7  "
      ]
     },
     "execution_count": 18,
     "metadata": {},
     "output_type": "execute_result"
    }
   ],
   "source": [
    "retention_table_7d_06_19 = users_with_revenue.loc[(users_with_revenue['lifetime'] == 7)&\n",
    "                                                  (users_with_revenue['registration_date']>='2019-06-01')&\n",
    "                                                  (users_with_revenue['registration_date']<'2019-07-01')]\n",
    "retention_table_7d_06_19.head()"
   ]
  },
  {
   "cell_type": "markdown",
   "metadata": {},
   "source": [
    "8. Рассчитаем коэффициент возвращаемости или Retention Rate для наших данных"
   ]
  },
  {
   "cell_type": "code",
   "execution_count": 19,
   "metadata": {},
   "outputs": [
    {
     "data": {
      "text/plain": [
       "12.93"
      ]
     },
     "execution_count": 19,
     "metadata": {},
     "output_type": "execute_result"
    }
   ],
   "source": [
    "retention_rate_7d_05_19 = round(retention_table_7d_05_19['active_users_count'].sum() / retention_table_7d_05_19['registered_users_count'].sum()*100, 2)\n",
    "retention_rate_7d_05_19"
   ]
  },
  {
   "cell_type": "code",
   "execution_count": 20,
   "metadata": {},
   "outputs": [
    {
     "data": {
      "text/plain": [
       "12.56"
      ]
     },
     "execution_count": 20,
     "metadata": {},
     "output_type": "execute_result"
    }
   ],
   "source": [
    "retention_rate_7d_06_19 = round(retention_table_7d_06_19['active_users_count'].sum() / retention_table_7d_06_19['registered_users_count'].sum()*100, 2)\n",
    "retention_rate_7d_06_19"
   ]
  },
  {
   "cell_type": "markdown",
   "metadata": {},
   "source": [
    "По данный Retention Rate мы видим что в мае этот показатель немного выше чем в июне. Пока не будем делать каких-либо поспешных выводов. Смотрим ARPPU для наших когорт."
   ]
  },
  {
   "cell_type": "markdown",
   "metadata": {},
   "source": [
    "9. Считаем ARPPU"
   ]
  },
  {
   "cell_type": "code",
   "execution_count": 21,
   "metadata": {},
   "outputs": [
    {
     "data": {
      "text/plain": [
       "0.3061245675177216"
      ]
     },
     "execution_count": 21,
     "metadata": {},
     "output_type": "execute_result"
    }
   ],
   "source": [
    "arppu_7d_05_19 = users_with_revenue['revenue'][users_with_revenue['registration_date']>=\"2019-05-01\"][users_with_revenue['registration_date']<\"2019-06-01\"].sum() / users_with_revenue['users_count_with_revenue'][users_with_revenue['registration_date']>=\"2019-05-01\"][users_with_revenue['registration_date']<\"2019-06-01\"].sum()\n",
    "arppu_7d_05_19"
   ]
  },
  {
   "cell_type": "code",
   "execution_count": 22,
   "metadata": {},
   "outputs": [
    {
     "data": {
      "text/plain": [
       "0.3931940184296097"
      ]
     },
     "execution_count": 22,
     "metadata": {},
     "output_type": "execute_result"
    }
   ],
   "source": [
    "arppu_7d_06_19 = users_with_revenue['revenue'][users_with_revenue['registration_date']>=\"2019-06-01\"][users_with_revenue['registration_date']<\"2019-07-01\"].sum() / users_with_revenue['users_count_with_revenue'][users_with_revenue['registration_date']>=\"2019-06-01\"][users_with_revenue['registration_date']<\"2019-07-01\"].sum()\n",
    "arppu_7d_06_19"
   ]
  },
  {
   "cell_type": "markdown",
   "metadata": {},
   "source": [
    "ARPPU для июня выше на 30% и составляет 0,39$"
   ]
  },
  {
   "cell_type": "markdown",
   "metadata": {},
   "source": [
    "## Выводы:\n",
    "- Retention Rate 7 дня с небольшим снижением, но остался примерно на прежнем уровне\n",
    "- ARPPU в июне вырос на 30%\n",
    "\n",
    "На текущий момент мы не можем сказать по какой причине это произошло, т.к. не имеем необходимых данных. На будущее можно настроить сбор данных и по данному направлению."
   ]
  }
 ],
 "metadata": {
  "kernelspec": {
   "display_name": "Python 3",
   "language": "python",
   "name": "python3"
  },
  "language_info": {
   "codemirror_mode": {
    "name": "ipython",
    "version": 3
   },
   "file_extension": ".py",
   "mimetype": "text/x-python",
   "name": "python",
   "nbconvert_exporter": "python",
   "pygments_lexer": "ipython3",
   "version": "3.8.5"
  }
 },
 "nbformat": 4,
 "nbformat_minor": 4
}
